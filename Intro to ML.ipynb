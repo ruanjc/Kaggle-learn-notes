{
 "cells": [
  {
   "cell_type": "code",
   "execution_count": 1,
   "metadata": {},
   "outputs": [],
   "source": [
    "import pandas as pd"
   ]
  },
  {
   "cell_type": "code",
   "execution_count": 2,
   "metadata": {},
   "outputs": [],
   "source": [
    "                           #Basic data exploration\n",
    "\n",
    "\n",
    "# save file path for easier access\n",
    "mel_file_path = 'file path'\n",
    "\n",
    "#read the data in title mel_data\n",
    "mel_data = pd.read_csv(mel_file_path)\n",
    "                       \n",
    "#summary of the data\n",
    "mel_data.describe()\n",
    "\n"
   ]
  },
  {
   "cell_type": "code",
   "execution_count": null,
   "metadata": {},
   "outputs": [],
   "source": [
    "                          #First machine learning model\n",
    "\n",
    "\n",
    "#to see the name of colums\n",
    "mel_data = pd.read_csv(mel_file_path)\n",
    "mel_data.columns\n",
    "\n",
    "#drop the missing value\n",
    "mel_data = mel_data.dropna(axis=0)\n",
    "\n",
    "#2 approach to be focused on 1.dot notation(select prediction target) 2.select a column first(features)\n",
    "#prediction target\n",
    "y = mel_data.Price #y is the prediction target\n",
    "\n",
    "#choosing features--columns that are inputted into our models and later used to make predictions\n",
    "mel_features = ['Rooms','Bathroom','Landsize','Lattitude','Longtitude'] #selecting features\n",
    "X = mel_data[mel_features]  #the data of selected feature is called x by convention\n",
    "\n",
    "#take a look of the feature\n",
    "X.describe()\n",
    "X.head()       #show the top few rows\n",
    "\n",
    "#scikity-learn library is used to create the model, its wirtten as sklearn\n",
    "#Type steps: 1.Define 2.Fit(capture pattern from provided data) 3.Pedict 4.Evaluate\n",
    "#emaple\n",
    "from sklearn.tree import DecisionTreeRegressor\n",
    "\n",
    "mel_model = decisionTreeregressor(random_state = 1)#Define the model, specify a random_state to ensure the same result\n",
    "\n",
    "mel_model.fit(X.y)   #fit model\n",
    "\n",
    "print(\"Making prediction for the following 5 houses\")\n",
    "print(X.head())\n",
    "print(\"The predictions are\")\n",
    "print(mel_model.predict(X.head()))"
   ]
  },
  {
   "cell_type": "code",
   "execution_count": null,
   "metadata": {},
   "outputs": [],
   "source": [
    "                                   #Model Validation\n",
    "\n",
    "\n",
    "#Mean Absolute Error MAE is used to summarize the model\n",
    "#Error = actual - predicted\n",
    "\n",
    "from sklearn.metrics import mean_absolute_error\n",
    "mean_absolute_error(y, predicted_home_prices)    \n",
    "#In-sample score, this is bad because some coincidence within the given data will be treated as pattern and will be examined to be accurate within the given data\n",
    "\n",
    "#validation data---exclude some data when building the model and use these excluded date to test the accuracy\n",
    "#train_test-split function can bak the data into 2 pieces\n",
    "from sklearn.model_selection import train_test_split\n",
    "train_X, val_X, train_y, val_y = train_test_split(X, y, random_state = 1)\n",
    "mel_model = DecisionTreeregressor()\n",
    "mel_model.fit(train_X, train_y)\n",
    "vav_predictons = mel_model.predict(val_X)\n",
    "print(mean_absolute_error(val_y, val_predictions))"
   ]
  },
  {
   "cell_type": "code",
   "execution_count": null,
   "metadata": {},
   "outputs": [],
   "source": [
    "                             #Underfitting and overfitting\n",
    "    \n",
    "    \n",
    "#overfitting--a model matched the training data almost perfectly but does poorly in validation and other new data\n",
    "#underfitting--a model that even performs poorly in training data\n",
    "#max_leaf_nodes proides a sensible way to control overfitting and underfitting\n",
    "from sklearn.metrics import mean_absolue_error\n",
    "from sklearn.tree import DecisionTreeRegressor\n",
    "\n",
    "#To get MAE easily\n",
    "def get_mae(max_leaf_nodes, train_X, val_X, train_y, val_y):\n",
    "    model = DecisiontreeRegressor(max_leaf_nodes = max_leaf_nodes, random_state=0)\n",
    "    model.fit(train_X, train_y)\n",
    "    preds_val = model.predict(val_X)\n",
    "    mae = mean_absolute_error(val_y, preds_val)\n",
    "    return(mae) \n",
    "\n",
    "#comparing MAE with different values of max_leaf_nodes\n",
    "for max_leaf_nodes in [5, 50, 500, 5000]:\n",
    "    my_mae = get_mae(max_leaf_nodes, train_X, val;_X, train_y, val_y)\n",
    "    print(\"Max leaf nodes: %d  \\t\\t Mean Absolute Error:  %d\" %(max_leaf_nodes, my_mae))\n",
    "#or alternatively\n",
    "scores = {leaf_size: get_mae(leaf_size, train_X, val_X, train_y, val_y) for leaf_size in candidate_max_leaf_nodes}\n",
    "best_tree_size = min(scores, key=scores.get)\n",
    "print(best_tree_size)\n",
    "\n",
    "#After the best max_leaf_nodes is obtained\n",
    "final_model = DecisionTreeRegressor(max_leaf_nodes = ??, random_state = ?)\n",
    "    \n",
    "\n"
   ]
  },
  {
   "cell_type": "code",
   "execution_count": null,
   "metadata": {},
   "outputs": [],
   "source": [
    "                                #Random forests\n",
    "    \n",
    "    \n",
    "from sklearn.ensemble import RandomForestregressor\n",
    "from sklearn.mtrics import mean_absolute_error\n",
    "\n",
    "forest_model = RandomForestRegressor(random_state = 1)\n",
    "forest_odel.fit(train_X, train_y)\n",
    "melb_preds = forest_model.predict(val_X)\n",
    "print(mean_absolute_error(val_y, melb_preds))"
   ]
  },
  {
   "cell_type": "code",
   "execution_count": null,
   "metadata": {},
   "outputs": [],
   "source": []
  },
  {
   "cell_type": "code",
   "execution_count": null,
   "metadata": {},
   "outputs": [],
   "source": []
  }
 ],
 "metadata": {
  "kernelspec": {
   "display_name": "Python 3",
   "language": "python",
   "name": "python3"
  },
  "language_info": {
   "codemirror_mode": {
    "name": "ipython",
    "version": 3
   },
   "file_extension": ".py",
   "mimetype": "text/x-python",
   "name": "python",
   "nbconvert_exporter": "python",
   "pygments_lexer": "ipython3",
   "version": "3.7.0"
  }
 },
 "nbformat": 4,
 "nbformat_minor": 2
}
