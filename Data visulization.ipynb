{
 "cells": [
  {
   "cell_type": "code",
   "execution_count": 1,
   "metadata": {},
   "outputs": [],
   "source": [
    "                        #Data visulization beginner"
   ]
  },
  {
   "cell_type": "code",
   "execution_count": 2,
   "metadata": {},
   "outputs": [
    {
     "name": "stdout",
     "output_type": "stream",
     "text": [
      "Setup Complete\n"
     ]
    }
   ],
   "source": [
    "import pandas as pd\n",
    "import matplotlib.pyplot as plt\n",
    "%matplotlib inline\n",
    "import seaborn as sns\n",
    "print(\"Setup Complete\")"
   ]
  },
  {
   "cell_type": "code",
   "execution_count": null,
   "metadata": {},
   "outputs": [],
   "source": [
    "#csv file--comma-separated value file"
   ]
  },
  {
   "cell_type": "code",
   "execution_count": null,
   "metadata": {},
   "outputs": [],
   "source": [
    "                              #Hello seaborn\n",
    "\n",
    "#.head--show the top few rows of the data\n",
    "fifa_data.head()\n",
    "\n",
    "#read the data\n",
    "museum_data = pd.read_csv(museum_filepath, \n",
    "                          index_col = \"Date\", \n",
    "                          parse_dates = True) \n",
    "#Data is the name of the column to use as row labels\n",
    "\n",
    "#force legend to appear\n",
    "plt.legend()\n",
    "\n",
    "#plot the data\n",
    "#1.set the width and height\n",
    "plt.figure(figsize = (16,6))\n",
    "#2.line chart\n",
    "sns.lineplot(data = fifa_data)"
   ]
  },
  {
   "cell_type": "code",
   "execution_count": null,
   "metadata": {},
   "outputs": [],
   "source": [
    "                               #Line charts\n",
    "\n",
    "#.tail()--print the last five rows of the data\n",
    "\n",
    "#set up the size\n",
    "plt.figure(figsize=(14,6))\n",
    "\n",
    "#add title\n",
    "plt.title(\"......\")\n",
    "\n",
    "#line chart\n",
    "sns.lineplot(data = spotify_data)#data = name of the data read above\n",
    "\n",
    "#print the name of columns\n",
    "list(name_of_data.columns)\n",
    "\n",
    "#print the subset\n",
    "sns.lineplot(data = name_of_data['name_of_columns'],label = \"desired label\")\n",
    "\n",
    "#add label to axis\n",
    "plt.xlabel(\"name_of_X-axis\")\n",
    "\n"
   ]
  },
  {
   "cell_type": "code",
   "execution_count": null,
   "metadata": {},
   "outputs": [],
   "source": [
    "                         #Bar Charts and Heatmaps\n",
    "\n",
    "#plot the barplot\n",
    "sns.barplot(x = flight_data.index, y = flight_data['NK'])\n",
    "#x = data on horizontal axis and y= data on vertical axis\n",
    "\n",
    "#plot the heat maps\n",
    "sns.heatmap(data = flight_data, annot = True)\n",
    "#annot = True ensures all values appears on the chart\n"
   ]
  },
  {
   "cell_type": "code",
   "execution_count": null,
   "metadata": {},
   "outputs": [],
   "source": [
    "                             #Scatter plots\n",
    "\n",
    "#plot the scatter plots\n",
    "sns.scatterplot(x = name_of_data['name_of _column_on_x-axis'], \n",
    "                y = name_of_data['name_of _column_on_y-axis'])\n",
    "\n",
    "#plot the graph with a regression line\n",
    "sns.regplot(x = name_of_data['name_of _column_on_x-axis'], \n",
    "            y = name_of_data['name_of _column_on_y-axis'])\n",
    "\n",
    "#To desiplay the relationship between 3 variables by colour coding the points\n",
    "sns.scatterplot(x = name_of_data['name_of _column_on_x-axis'], \n",
    "                y = name_of_data['name_of _column_on_y-axis'], \n",
    "                hue = insurance_data['smoker'])\n",
    "\n",
    "#2 separate regression lines can be added\n",
    "sns.lmplot(x = \"bmi\", y = \"charges\", hue = \"smoker\", data = insurance_data)\n",
    "\n",
    "#catagorical scatter plot--for discontinuous data\n",
    "sns.swarmplot(x = name_of_data['name_of _column_on_x-axis'], \n",
    "              y = name_of_data['name_of _column_on_y-axis'])\n"
   ]
  },
  {
   "cell_type": "code",
   "execution_count": null,
   "metadata": {},
   "outputs": [],
   "source": [
    "                      #Histograms and density plots\n",
    "\n",
    "#Plot a histogram\n",
    "sns.distplot(a=iris_data['Petal Length (cm)'], kde = False)\n",
    "# a = name of the column we want to plot, kde = False, just keep it here\n",
    "\n",
    "#Plot a KDE(kernel density estimate)\n",
    "sns.kdeplot(data = iris_data['Petal Length (cm)'], shade = True)\n",
    "\n",
    "#Play a 2D KDE plot\n",
    "sns.jointplot(x = iris_data['Petal length (cm)'], y = iris-data['Sepal Width (cm)'], kind = \"kde\")\n",
    "\n",
    "\n"
   ]
  },
  {
   "cell_type": "code",
   "execution_count": null,
   "metadata": {},
   "outputs": [],
   "source": []
  }
 ],
 "metadata": {
  "kernelspec": {
   "display_name": "Python 3",
   "language": "python",
   "name": "python3"
  },
  "language_info": {
   "codemirror_mode": {
    "name": "ipython",
    "version": 3
   },
   "file_extension": ".py",
   "mimetype": "text/x-python",
   "name": "python",
   "nbconvert_exporter": "python",
   "pygments_lexer": "ipython3",
   "version": "3.7.0"
  }
 },
 "nbformat": 4,
 "nbformat_minor": 2
}
